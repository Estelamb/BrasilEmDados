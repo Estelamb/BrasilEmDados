{
 "cells": [
  {
   "cell_type": "markdown",
   "source": [
    "# BRASIL EM DADOS | INTRODUÇÃO À CIÊNCIA DOS DADOS\n",
    "\n",
    "**Grupo:** Estela Miranda Batista, 3305 | João Marcos Alves Modesto Ramos, 3506 | Roniel Barbosa, "
   ],
   "metadata": {}
  },
  {
   "cell_type": "code",
   "execution_count": 2,
   "source": [
    "# Importando as Bibliotecas Utilizadas\n",
    "import pandas as pd\n",
    "\n",
    "# Dataframe de Covid\n",
    "path1 = \"./Dados/Covid/HIST_PAINEL_COVIDBR_2020_Parte1_22ago2021.csv\"\n",
    "path2 = \"./Dados/Covid/HIST_PAINEL_COVIDBR_2020_Parte2_22ago2021.csv\"\n",
    "path3= \"./Dados/Covid/HIST_PAINEL_COVIDBR_2021_Parte1_22ago2021.csv\"\n",
    "path4 = \"./Dados/Covid/HIST_PAINEL_COVIDBR_2021_Parte2_22ago2021.csv\"\n",
    "path = [path1,path2,path3,path4]\n",
    "df_from_each_file = (pd.read_csv(f,error_bad_lines=False,sep=';') for f in path)\n",
    "dadosCovid = pd.concat(df_from_each_file, ignore_index=True)\n",
    "\n",
    "# Dataframe de Vacina\n",
    "path5 = \"./Dados/Vacina/dadosTipoVacina.xlsx\"\n",
    "dadosTipoVacina = pd.read_excel(path5)\n",
    "\n",
    "# Dados Eleições\n",
    "votosEleicao = {\n",
    "    'Acre': 62.24,\n",
    "    'Alagoas': 34.40,\n",
    "    'Amapá': 40.74,\n",
    "    'Amazonas': 43.48,\n",
    "    'Bahia': 23.41,\n",
    "    'Ceará': 21.74,\n",
    "    'Distrito Federal': 58.37,\n",
    "    'Espírito Santo': 54.76,\n",
    "    'Goiás': 57.24,\n",
    "    'Maranhão': 24.28,\n",
    "    'Mato Grosso': 60.04,\n",
    "    'Mato Grosso do Sul': 55.06,\n",
    "    'Minas Gerais': 48.31,\n",
    "    'Paraná': 56.89,\n",
    "    'Paraíba': 31.30,\n",
    "    'Pará': 36.19,\n",
    "    'Pernambuco': 30.57,\n",
    "    'Piauí': 18.76,\n",
    "    'Rio de Janeiro': 59.79,\n",
    "    'Rio Grande do Norte': 30.21,\n",
    "    'Rio Grande do Sul': 52.63,\n",
    "    'Rondônia': 62.24,\n",
    "    'Roraima': 62.97,\n",
    "    'Santa Catarina': 65.82,\n",
    "    'Sergipe': 27.21,\n",
    "    'São Paulo': 53.00,\n",
    "    'Tocantins': 44.64,\n",
    "}\n",
    "\n",
    "dadosEleicao = pd.DataFrame(votosEleicao.items(), index=votosEleicao.keys())\n",
    "\n",
    "# Dados PIB\n",
    "PIB = {\n",
    "    'Acre': 15331,\n",
    "    'Alagoas': 54413,\n",
    "    'Amapá': 16795,\n",
    "    'Amazonas': 100109,\n",
    "    'Bahia': 286240,\n",
    "    'Ceará': 155904,\n",
    "    'Distrito Federal': 254817,\n",
    "    'Espírito Santo': 137020,\n",
    "    'Goiás': 195682,\n",
    "    'Maranhão': 98179,\n",
    "    'Mato Grosso': 137443,\n",
    "    'Mato Grosso do Sul': 106969,\n",
    "    'Minas Gerais': 614876,\n",
    "    'Paraná': 440029,\n",
    "    'Paraíba': 64374,\n",
    "    'Pará': 161350,\n",
    "    'Pernambuco': 186352,\n",
    "    'Piauí': 50378,\n",
    "    'Rio de Janeiro': 758859,\n",
    "    'Rio Grande do Norte': 66970,\n",
    "    'Rio Grande do Sul': 457294,\n",
    "    'Rondônia': 44914,\n",
    "    'Roraima': 13370,\n",
    "    'Santa Catarina': 298227,\n",
    "    'Sergipe': 42018,\n",
    "    'São Paulo': 2210562,\n",
    "    'Tocantins': 35666,\n",
    "}\n",
    "\n",
    "#dadosPIB = \n"
   ],
   "outputs": [
    {
     "output_type": "stream",
     "name": "stderr",
     "text": [
      "/home/estela/.local/lib/python3.8/site-packages/pandas/core/reshape/concat.py:348: FutureWarning: The error_bad_lines argument has been deprecated and will be removed in a future version.\n",
      "\n",
      "\n",
      "  objs = list(objs)\n"
     ]
    }
   ],
   "metadata": {}
  },
  {
   "cell_type": "markdown",
   "source": [
    "## 🔵 PREPARAÇÃO DOS DADOS\n",
    "\n",
    "### Dados do Covid-19\n",
    "\n",
    "### Dados da Vacinação\n",
    "\n",
    "### Dados das Eleições e PIB"
   ],
   "metadata": {}
  },
  {
   "cell_type": "code",
   "execution_count": null,
   "source": [
    "# Preparação dos Dados da Covid-19\n",
    "\n",
    "# Remoção dos Atributos não uUilizados na Análise\n",
    "dadosCovid = dadosCovid.drop(columns=['coduf','codmun','codRegiaoSaude','nomeRegiaoSaude','Recuperadosnovos','emAcompanhamentoNovos','interior/metropolitana'])"
   ],
   "outputs": [],
   "metadata": {}
  },
  {
   "cell_type": "code",
   "execution_count": null,
   "source": [
    "# Preparação dos Dados da Vacinação\n",
    "dadosTipoVacina = dadosTipoVacina.drop(columns=['Cód. IBGE','Dose 1','Dose 2'])"
   ],
   "outputs": [],
   "metadata": {}
  },
  {
   "cell_type": "code",
   "execution_count": null,
   "source": [
    "# Preparação dos Dados das Eleições"
   ],
   "outputs": [],
   "metadata": {}
  },
  {
   "cell_type": "code",
   "execution_count": null,
   "source": [
    "# Preparação dos Dados do PIB"
   ],
   "outputs": [],
   "metadata": {}
  },
  {
   "cell_type": "markdown",
   "source": [
    "## 🟣 QUESTIONAMENTOS LEVANTADOS, E SUAS RESPOSTAS\n",
    "\n",
    "### 🔢 Casos de Covid-19\n",
    "\n",
    "1. Amostragem dos casos de covid por estado.\n",
    "2. Qual estado tem o maior número de casos de covid?\n",
    "3. Qual estado tem a maior taxa de mortos por covid?\n",
    "4. Qual estado tem a maior taxa de recuperação de covid?\n",
    "5. Qual a maior taxa de cresccimento de casos de covid em cada estado? Em que período isso ocorreu?\n",
    "6. Qual a maior taxa de cresccimento de óbitos de covid em cada estado? Em que período isso ocorreu?\n",
    "7. Qual o estado que teve a maior taxa de mortalidade? (a taxa de mortalidade consiste no número de óbitos dividido pelo número de casos)"
   ],
   "metadata": {}
  },
  {
   "cell_type": "code",
   "execution_count": null,
   "source": [],
   "outputs": [],
   "metadata": {}
  },
  {
   "cell_type": "markdown",
   "source": [
    "### 📈 Taxa de Vacinação\n",
    "\n",
    "8. Amostragem dos dados de vacinação por estado.\n",
    "9. Qual o estado com maior taxa de vacinação?\n",
    "10. Qual a região com maior taxa de vacinação?\n",
    "11. Existe uma relação entre a taxa de vacinação e a diminuição de casos em cada estado?\n",
    "12. Existe uma relação entre a taxa de vacinação e a diminuição de casos em cada região?"
   ],
   "metadata": {}
  },
  {
   "cell_type": "code",
   "execution_count": null,
   "source": [],
   "outputs": [],
   "metadata": {}
  },
  {
   "cell_type": "markdown",
   "source": [
    "### 💰 Situação Socioecônomica\n",
    "\n",
    "13. Amostragem de situação socioeconômica por estado, através do PIB.\n",
    "14. Os estados com menor PIB, tiveram alguma relação com o aumento de casos de covid?\n",
    "15. Os estados com menor PIB, tiveram alguma relação com o número de recuperados de casos de covid?\n",
    "16. Os estados com menor PIB, tiveram alguma relação com a taxa de vacinação de casos de covid?"
   ],
   "metadata": {}
  },
  {
   "cell_type": "markdown",
   "source": [],
   "metadata": {}
  },
  {
   "cell_type": "markdown",
   "source": [
    "### 💼 Situação Política\n",
    "\n",
    "17. Amostragem de votos durante a última eleição a favor do atual presidente.\n",
    "18. O apoio ao presidente tem alguma relação com as regiões com maior taxa de casos de covid?\n",
    "19. O apoio ao presidente tem alguma relação com as regiões com maior taxa de óbitos de covid?\n",
    "20. O apoio ao presidente tem alguma relação com as regiões com maior taxa de vacinação?"
   ],
   "metadata": {}
  },
  {
   "cell_type": "code",
   "execution_count": null,
   "source": [],
   "outputs": [],
   "metadata": {}
  }
 ],
 "metadata": {
  "orig_nbformat": 4,
  "language_info": {
   "name": "python",
   "version": "3.8.10",
   "mimetype": "text/x-python",
   "codemirror_mode": {
    "name": "ipython",
    "version": 3
   },
   "pygments_lexer": "ipython3",
   "nbconvert_exporter": "python",
   "file_extension": ".py"
  },
  "kernelspec": {
   "name": "python3",
   "display_name": "Python 3.8.10 64-bit"
  },
  "interpreter": {
   "hash": "916dbcbb3f70747c44a77c7bcd40155683ae19c65e1c03b4aa3499c5328201f1"
  }
 },
 "nbformat": 4,
 "nbformat_minor": 2
}