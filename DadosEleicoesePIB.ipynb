{
 "cells": [
  {
   "cell_type": "markdown",
   "source": [
    "# Porcentagem de Votos na Última Eleição Presidencial\n",
    "\n",
    "Os dados foram extraídos da base das [Eleição 2018](https://especiais.gazetadopovo.com.br/eleicoes/2018/resultados/votacao-candidatos-presidente-brasil/), em que ficaram aqui registrados apenas as porcentagens de votos, em cada estado, ao atual presidente, Jair Bolsonaro."
   ],
   "metadata": {}
  },
  {
   "cell_type": "code",
   "execution_count": 4,
   "source": [
    "votosEleicao = {\n",
    "    'Acre': 62.24,\n",
    "    'Alagoas': 34.40,\n",
    "    'Amapá': 40.74,\n",
    "    'Amazonas': 43.48,\n",
    "    'Bahia': 23.41,\n",
    "    'Ceará': 21.74,\n",
    "    'Distrito Federal': 58.37,\n",
    "    'Espírito Santo': 54.76,\n",
    "    'Goiás': 57.24,\n",
    "    'Maranhão': 24.28,\n",
    "    'Mato Grosso': 60.04,\n",
    "    'Mato Grosso do Sul': 55.06,\n",
    "    'Minas Gerais': 48.31,\n",
    "    'Paraná': 56.89,\n",
    "    'Paraíba': 31.30,\n",
    "    'Pará': 36.19,\n",
    "    'Pernambuco': 30.57,\n",
    "    'Piauí': 18.76,\n",
    "    'Rio de Janeiro': 59.79,\n",
    "    'Rio Grande do Norte': 30.21,\n",
    "    'Rio Grande do Sul': 52.63,\n",
    "    'Rondônia': 62.24,\n",
    "    'Roraima': 62.97,\n",
    "    'Santa Catarina': 65.82,\n",
    "    'Sergipe': 27.21,\n",
    "    'São Paulo': 53.00,\n",
    "    'Tocantins': 44.64,\n",
    "}"
   ],
   "outputs": [],
   "metadata": {}
  },
  {
   "cell_type": "markdown",
   "source": [
    "# PIB por Estado\n",
    "\n",
    "Os dados foram extraídos da base do [IBGE](https://www.ibge.gov.br/explica/pib.php), em cada valor se refere ao PIB em 2018 (1.000.000 R$)."
   ],
   "metadata": {}
  },
  {
   "cell_type": "code",
   "execution_count": 5,
   "source": [
    "PIB = {\n",
    "    'Acre': 15331,\n",
    "    'Alagoas': 54413,\n",
    "    'Amapá': 16795,\n",
    "    'Amazonas': 100109,\n",
    "    'Bahia': 286240,\n",
    "    'Ceará': 155904,\n",
    "    'Distrito Federal': 254817,\n",
    "    'Espírito Santo': 137020,\n",
    "    'Goiás': 195682,\n",
    "    'Maranhão': 98179,\n",
    "    'Mato Grosso': 137443,\n",
    "    'Mato Grosso do Sul': 106969,\n",
    "    'Minas Gerais': 614876,\n",
    "    'Paraná': 440029,\n",
    "    'Paraíba': 64374,\n",
    "    'Pará': 161350,\n",
    "    'Pernambuco': 186352,\n",
    "    'Piauí': 50378,\n",
    "    'Rio de Janeiro': 758859,\n",
    "    'Rio Grande do Norte': 66970,\n",
    "    'Rio Grande do Sul': 457294,\n",
    "    'Rondônia': 44914,\n",
    "    'Roraima': 13370,\n",
    "    'Santa Catarina': 298227,\n",
    "    'Sergipe': 42018,\n",
    "    'São Paulo': 2210562,\n",
    "    'Tocantins': 35666,\n",
    "}"
   ],
   "outputs": [],
   "metadata": {}
  }
 ],
 "metadata": {
  "orig_nbformat": 4,
  "language_info": {
   "name": "python",
   "version": "3.8.10",
   "mimetype": "text/x-python",
   "codemirror_mode": {
    "name": "ipython",
    "version": 3
   },
   "pygments_lexer": "ipython3",
   "nbconvert_exporter": "python",
   "file_extension": ".py"
  },
  "kernelspec": {
   "name": "python3",
   "display_name": "Python 3.8.10 64-bit"
  },
  "interpreter": {
   "hash": "916dbcbb3f70747c44a77c7bcd40155683ae19c65e1c03b4aa3499c5328201f1"
  }
 },
 "nbformat": 4,
 "nbformat_minor": 2
}